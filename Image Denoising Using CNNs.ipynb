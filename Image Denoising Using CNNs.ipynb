{
 "cells": [
  {
   "cell_type": "markdown",
   "metadata": {
    "id": "KI6G5xtp0Gmb"
   },
   "source": [
    "Important note: run the traditional methods first, before the changin the shape of the test dataset and using the autoencoder "
   ]
  },
  {
   "cell_type": "code",
   "execution_count": null,
   "metadata": {
    "id": "GVHecNDGn4_1"
   },
   "outputs": [],
   "source": [
    "from tensorflow.keras.datasets import fashion_mnist\n",
    "import numpy as np\n",
    "import matplotlib.pyplot as plt\n",
    "from skimage.metrics import structural_similarity\n",
    "from skimage.metrics import mean_squared_error\n",
    "\n",
    "from tensorflow.keras.layers import Input, Conv2D, MaxPooling2D, Conv2DTranspose, GaussianNoise, BatchNormalization\n",
    "from tensorflow.keras.models import Model"
   ]
  },
  {
   "cell_type": "code",
   "execution_count": null,
   "metadata": {
    "colab": {
     "base_uri": "https://localhost:8080/"
    },
    "id": "rwfJkyqzTDr0",
    "outputId": "b402bc0a-82bd-4ad8-fa63-5cb8fda09528"
   },
   "outputs": [
    {
     "name": "stdout",
     "output_type": "stream",
     "text": [
      "Downloading data from https://storage.googleapis.com/tensorflow/tf-keras-datasets/train-labels-idx1-ubyte.gz\n",
      "32768/29515 [=================================] - 0s 0us/step\n",
      "Downloading data from https://storage.googleapis.com/tensorflow/tf-keras-datasets/train-images-idx3-ubyte.gz\n",
      "26427392/26421880 [==============================] - 0s 0us/step\n",
      "Downloading data from https://storage.googleapis.com/tensorflow/tf-keras-datasets/t10k-labels-idx1-ubyte.gz\n",
      "8192/5148 [===============================================] - 0s 0us/step\n",
      "Downloading data from https://storage.googleapis.com/tensorflow/tf-keras-datasets/t10k-images-idx3-ubyte.gz\n",
      "4423680/4422102 [==============================] - 0s 0us/step\n"
     ]
    }
   ],
   "source": [
    "#discarding the labels\n",
    "(train_images, _), (test_images, _) = fashion_mnist.load_data()\n"
   ]
  },
  {
   "cell_type": "code",
   "execution_count": null,
   "metadata": {
    "id": "YxR3us-TSarP"
   },
   "outputs": [],
   "source": [
    "# Adding AWGN to all images in the testing dataset\n",
    "# Initializing the gaussian noise\n",
    "noise_level = 0.3\n",
    "awgn = np.random.normal(0,noise_level,(28,28))\n",
    "test_images_noisy = []\n",
    "for i in range(len(test_images)):\n",
    "  # normailizing and adding the gaussian nosie\n",
    "  noised_img = (test_images[i]/255)+awgn\n",
    "  # makeing sure that the noised image starts from 0\n",
    "  noised_img = noised_img - noised_img.min()\n",
    "  # making sure that the maximum value in the noised image is 1\n",
    "  noised_img = noised_img/noised_img.max()\n",
    "  # appending the nosied image\n",
    "  test_images_noisy.append(noised_img)\n",
    "test_images_noisy = np.array(test_images_noisy)\n",
    "test_images_noisy = np.round(test_images_noisy*255).astype('uint8')"
   ]
  },
  {
   "cell_type": "code",
   "execution_count": null,
   "metadata": {
    "colab": {
     "base_uri": "https://localhost:8080/",
     "height": 282
    },
    "id": "5eaDgM2Ybxac",
    "outputId": "3be4e715-2f26-4c2c-ebf9-5cf061889c49"
   },
   "outputs": [
    {
     "data": {
      "text/plain": [
       "<matplotlib.image.AxesImage at 0x7fe5b835fba8>"
      ]
     },
     "execution_count": 4,
     "metadata": {
      "tags": []
     },
     "output_type": "execute_result"
    },
    {
     "data": {
      "image/png": "[encoded data removed]",
      "text/plain": [
       "<Figure size 432x288 with 1 Axes>"
      ]
     },
     "metadata": {
      "needs_background": "light",
      "tags": []
     },
     "output_type": "display_data"
    }
   ],
   "source": [
    "plt.imshow(test_images_noisy[1], cmap='gray')"
   ]
  },
  {
   "cell_type": "code",
   "execution_count": null,
   "metadata": {
    "id": "KuIP5bbvOFKT"
   },
   "outputs": [],
   "source": [
    "train_images = train_images.astype('float32')/255\n",
    "train_images = train_images.reshape((60000,28,28,1))\n",
    "test_images = test_images.astype('float32')/255\n",
    "test_images = test_images.reshape((10000,28,28,1))"
   ]
  },
  {
   "cell_type": "code",
   "execution_count": null,
   "metadata": {
    "id": "taNczSFyOv15"
   },
   "outputs": [],
   "source": [
    "\n",
    "test_images_noisy_norm = test_images_noisy.astype('float32')/255\n",
    "test_images_noisy_norm = test_images_noisy_norm.reshape((10000,28,28,1))"
   ]
  },
  {
   "cell_type": "markdown",
   "metadata": {
    "id": "foDmm_qVwkLX"
   },
   "source": [
    "## Trying to increase the depth of the archtescture"
   ]
  },
  {
   "cell_type": "code",
   "execution_count": null,
   "metadata": {
    "id": "iuKn6fySjqub"
   },
   "outputs": [],
   "source": [
    "# In order to change the depth of the architecutre, I need to pad the input image to a certain dimention (ex: 32)\n",
    "# So, I will be able to decrease its size further \n",
    "\n",
    "input_image  = Input(shape=(28,28,1))\n",
    "x_c = GaussianNoise(0.3)(input_image)\n",
    "h_1 = Conv2D(32, (3, 3), padding='same',activation='relu')(x_c)\n",
    "p_1 = MaxPooling2D((3))(h_1)\n",
    "h_2 = Conv2D(32, (3, 3), padding='same',activation='relu')(p_1)\n",
    "\n",
    "p_11 = MaxPooling2D((2))(h_2)\n",
    "h_22 = Conv2D(32, (3, 3), padding='same',activation='relu')(p_11)\n",
    "\n",
    "z = MaxPooling2D((2))(h_22)\n",
    "\n",
    "h_33 = Conv2DTranspose(32, (3, 3), padding='same',strides=(2), activation='relu')(z)\n",
    "\n",
    "h_3 = Conv2DTranspose(32, (3, 3), padding='same',strides=(2), activation='relu')(h_33)\n",
    "y = Conv2DTranspose(1, (3, 3), padding='same',strides=(2), activation='relu')(h_3)\n",
    "\n",
    "#autoencoder = Model(input_image, decoded)\n",
    "autoencoder = Model(input_image, y)\n",
    "\n",
    "#autoencoder.compile(optimizer='adam', loss='mean_squared_error')\n",
    "\n",
    "#history = autoencoder.fit(train_images,train_images, epochs=25, batch_size=256,shuffle=True, validation_data=(test_images,test_images))\n",
    "\n",
    "\n",
    "\n",
    "\n"
   ]
  },
  {
   "cell_type": "code",
   "execution_count": null,
   "metadata": {
    "colab": {
     "base_uri": "https://localhost:8080/"
    },
    "id": "2Vl4EQd9rU_1",
    "outputId": "ba000aef-9159-4fe1-ecf9-8084df18318a"
   },
   "outputs": [
    {
     "name": "stdout",
     "output_type": "stream",
     "text": [
      "Model: \"functional_41\"\n",
      "_________________________________________________________________\n",
      "Layer (type)                 Output Shape              Param #   \n",
      "=================================================================\n",
      "input_23 (InputLayer)        [(None, 28, 28, 1)]       0         \n",
      "_________________________________________________________________\n",
      "gaussian_noise_22 (GaussianN (None, 28, 28, 1)         0         \n",
      "_________________________________________________________________\n",
      "conv2d_58 (Conv2D)           (None, 28, 28, 32)        320       \n",
      "_________________________________________________________________\n",
      "max_pooling2d_58 (MaxPooling (None, 9, 9, 32)          0         \n",
      "_________________________________________________________________\n",
      "conv2d_59 (Conv2D)           (None, 9, 9, 32)          9248      \n",
      "_________________________________________________________________\n",
      "max_pooling2d_59 (MaxPooling (None, 4, 4, 32)          0         \n",
      "_________________________________________________________________\n",
      "conv2d_60 (Conv2D)           (None, 4, 4, 32)          9248      \n",
      "_________________________________________________________________\n",
      "max_pooling2d_60 (MaxPooling (None, 2, 2, 32)          0         \n",
      "_________________________________________________________________\n",
      "conv2d_transpose_58 (Conv2DT (None, 4, 4, 32)          9248      \n",
      "_________________________________________________________________\n",
      "conv2d_transpose_59 (Conv2DT (None, 8, 8, 32)          9248      \n",
      "_________________________________________________________________\n",
      "conv2d_transpose_60 (Conv2DT (None, 16, 16, 1)         289       \n",
      "=================================================================\n",
      "Total params: 37,601\n",
      "Trainable params: 37,601\n",
      "Non-trainable params: 0\n",
      "_________________________________________________________________\n"
     ]
    }
   ],
   "source": [
    "autoencoder.summary()"
   ]
  },
  {
   "cell_type": "code",
   "execution_count": null,
   "metadata": {
    "colab": {
     "base_uri": "https://localhost:8080/",
     "height": 295
    },
    "id": "hnLuyrpQnnFG",
    "outputId": "79651041-61cc-420d-80f5-be2f30f546f2"
   },
   "outputs": [
    {
     "data": {
      "image/png": "[encoded data removed]",
      "text/plain": [
       "<Figure size 432x288 with 1 Axes>"
      ]
     },
     "metadata": {
      "needs_background": "light",
      "tags": []
     },
     "output_type": "display_data"
    }
   ],
   "source": [
    "#Visualize the models loss\n",
    "plt.plot(history.history['loss'])\n",
    "plt.plot(history.history['val_loss'])\n",
    "plt.title('Model Loss')\n",
    "plt.ylabel('Loss')\n",
    "plt.xlabel('Epoch')\n",
    "plt.legend(['Training', 'Validation'], loc='upper right')\n",
    "plt.grid()\n",
    "plt.show()"
   ]
  },
  {
   "cell_type": "code",
   "execution_count": null,
   "metadata": {
    "colab": {
     "base_uri": "https://localhost:8080/"
    },
    "id": "-srvUv6-pG71",
    "outputId": "b71da3dc-3420-4d19-f99d-817af76dd309"
   },
   "outputs": [
    {
     "name": "stdout",
     "output_type": "stream",
     "text": [
      "CPU times: user 494 ms, sys: 56.9 ms, total: 551 ms\n",
      "Wall time: 470 ms\n"
     ]
    }
   ],
   "source": [
    "%%time\n",
    "# encode and decode some digits\n",
    "# note that we take them from the *test* set\n",
    "\n",
    "decoded_test_images = autoencoder.predict(test_images)\n",
    "#decoded_test_images = autoencoder.predict(test_images_noisy_norm)\n"
   ]
  },
  {
   "cell_type": "code",
   "execution_count": null,
   "metadata": {
    "colab": {
     "base_uri": "https://localhost:8080/"
    },
    "id": "NnfQ3YHXpNEk",
    "outputId": "5128049c-4caf-432b-9519-dee6c59395df"
   },
   "outputs": [
    {
     "name": "stdout",
     "output_type": "stream",
     "text": [
      "MSE = 0.00874\n"
     ]
    }
   ],
   "source": [
    "\n",
    "MSE = np.square(test_images - decoded_test_images).mean()\n",
    "print('MSE = ' + str(round(MSE,5)))"
   ]
  },
  {
   "cell_type": "code",
   "execution_count": null,
   "metadata": {
    "colab": {
     "base_uri": "https://localhost:8080/"
    },
    "id": "rMfn3bnZpYkW",
    "outputId": "112c272d-667e-4b1f-cec3-63efae1b7b9b"
   },
   "outputs": [
    {
     "name": "stdout",
     "output_type": "stream",
     "text": [
      "SSIM = 0.81\n"
     ]
    }
   ],
   "source": [
    "ssim_list = []\n",
    "for i in range(len(test_images)):\n",
    "    ssim = structural_similarity(test_images[i].reshape(28,28), decoded_test_images[i].reshape(28,28))\n",
    "    ssim_list.append(ssim)\n",
    "ssim_mean = np.array(ssim_list).mean()\n",
    "print('SSIM = ' + str(round(ssim_mean,2)))"
   ]
  },
  {
   "cell_type": "code",
   "execution_count": null,
   "metadata": {
    "colab": {
     "base_uri": "https://localhost:8080/",
     "height": 282
    },
    "id": "uzFdQUznpRfE",
    "outputId": "7865e43e-459a-4acc-8745-3e6766ae613f"
   },
   "outputs": [
    {
     "data": {
      "text/plain": [
       "<matplotlib.image.AxesImage at 0x7f2d40043c88>"
      ]
     },
     "execution_count": 24,
     "metadata": {
      "tags": []
     },
     "output_type": "execute_result"
    },
    {
     "data": {
      "image/png": "[encoded data removed]",
      "text/plain": [
       "<Figure size 432x288 with 1 Axes>"
      ]
     },
     "metadata": {
      "needs_background": "light",
      "tags": []
     },
     "output_type": "display_data"
    }
   ],
   "source": [
    "plt.imshow(decoded_test_images[1].reshape(28,28), cmap='gray')"
   ]
  },
  {
   "cell_type": "markdown",
   "metadata": {
    "id": "bu0MEoGswxCR"
   },
   "source": [
    "## Main architecture"
   ]
  },
  {
   "cell_type": "code",
   "execution_count": null,
   "metadata": {
    "colab": {
     "base_uri": "https://localhost:8080/"
    },
    "id": "kRQw7OKrjCmh",
    "outputId": "3e204514-cce2-410a-feae-bd5b1c4991d9"
   },
   "outputs": [
    {
     "name": "stdout",
     "output_type": "stream",
     "text": [
      "Epoch 1/25\n",
      "188/188 [==============================] - 2s 12ms/step - loss: 0.0533 - val_loss: 0.0212\n",
      "Epoch 2/25\n",
      "188/188 [==============================] - 2s 11ms/step - loss: 0.0182 - val_loss: 0.0159\n",
      "Epoch 3/25\n",
      "188/188 [==============================] - 2s 11ms/step - loss: 0.0156 - val_loss: 0.0144\n",
      "Epoch 4/25\n",
      "188/188 [==============================] - 2s 10ms/step - loss: 0.0142 - val_loss: 0.0124\n",
      "Epoch 5/25\n",
      "188/188 [==============================] - 2s 11ms/step - loss: 0.0133 - val_loss: 0.0125\n",
      "Epoch 6/25\n",
      "188/188 [==============================] - 2s 10ms/step - loss: 0.0127 - val_loss: 0.0110\n",
      "Epoch 7/25\n",
      "188/188 [==============================] - 2s 10ms/step - loss: 0.0123 - val_loss: 0.0109\n",
      "Epoch 8/25\n",
      "188/188 [==============================] - 2s 10ms/step - loss: 0.0119 - val_loss: 0.0107\n",
      "Epoch 9/25\n",
      "188/188 [==============================] - 2s 10ms/step - loss: 0.0116 - val_loss: 0.0102\n",
      "Epoch 10/25\n",
      "188/188 [==============================] - 2s 11ms/step - loss: 0.0114 - val_loss: 0.0096\n",
      "Epoch 11/25\n",
      "188/188 [==============================] - 2s 11ms/step - loss: 0.0112 - val_loss: 0.0094\n",
      "Epoch 12/25\n",
      "188/188 [==============================] - 2s 11ms/step - loss: 0.0111 - val_loss: 0.0095\n",
      "Epoch 13/25\n",
      "188/188 [==============================] - 2s 10ms/step - loss: 0.0109 - val_loss: 0.0092\n",
      "Epoch 14/25\n",
      "188/188 [==============================] - 2s 11ms/step - loss: 0.0108 - val_loss: 0.0086\n",
      "Epoch 15/25\n",
      "188/188 [==============================] - 2s 10ms/step - loss: 0.0107 - val_loss: 0.0090\n",
      "Epoch 16/25\n",
      "188/188 [==============================] - 2s 11ms/step - loss: 0.0106 - val_loss: 0.0091\n",
      "Epoch 17/25\n",
      "188/188 [==============================] - 2s 11ms/step - loss: 0.0105 - val_loss: 0.0084\n",
      "Epoch 18/25\n",
      "188/188 [==============================] - 2s 10ms/step - loss: 0.0104 - val_loss: 0.0082\n",
      "Epoch 19/25\n",
      "188/188 [==============================] - 2s 11ms/step - loss: 0.0104 - val_loss: 0.0083\n",
      "Epoch 20/25\n",
      "188/188 [==============================] - 2s 10ms/step - loss: 0.0103 - val_loss: 0.0080\n",
      "Epoch 21/25\n",
      "188/188 [==============================] - 2s 11ms/step - loss: 0.0103 - val_loss: 0.0080\n",
      "Epoch 22/25\n",
      "188/188 [==============================] - 2s 11ms/step - loss: 0.0102 - val_loss: 0.0079\n",
      "Epoch 23/25\n",
      "188/188 [==============================] - 2s 10ms/step - loss: 0.0102 - val_loss: 0.0076\n",
      "Epoch 24/25\n",
      "188/188 [==============================] - 2s 10ms/step - loss: 0.0101 - val_loss: 0.0076\n",
      "Epoch 25/25\n",
      "188/188 [==============================] - 2s 10ms/step - loss: 0.0101 - val_loss: 0.0079\n"
     ]
    }
   ],
   "source": [
    "# without batch norm\n",
    "input_image  = Input(shape=(28,28,1))\n",
    "x_c = GaussianNoise(0.3)(input_image)\n",
    "h_1 = Conv2D(32, (3, 3), padding='same',activation='relu')(x_c)\n",
    "\n",
    "#h_1b = BatchNormalization()(h_1)\n",
    "\n",
    "p_1 = MaxPooling2D((2, 2))(h_1)\n",
    "h_2 = Conv2D(32, (3, 3), padding='same',activation='relu')(p_1)\n",
    "#h_2b = BatchNormalization()(h_2)\n",
    "\n",
    "z = MaxPooling2D((2, 2))(h_2)\n",
    "h_3 = Conv2DTranspose(32, (3, 3), padding='same',strides=(2, 2), activation='relu')(z)\n",
    "y = Conv2DTranspose(1, (3, 3), padding='same',strides=(2, 2), activation='relu')(h_3)\n",
    "\n",
    "autoencoder = Model(input_image, y)\n",
    "\n",
    "autoencoder.compile(optimizer='adam', loss='mean_squared_error')\n",
    "\n",
    "history = autoencoder.fit(train_images,train_images, epochs=25, batch_size=256, validation_split=0.2)\n",
    "\n"
   ]
  },
  {
   "cell_type": "code",
   "execution_count": null,
   "metadata": {
    "colab": {
     "base_uri": "https://localhost:8080/"
    },
    "id": "c6zVXbmEsEpG",
    "outputId": "321081a1-ce58-42c1-b91c-5887b6df6c2a"
   },
   "outputs": [
    {
     "data": {
      "text/plain": [
       "dict_keys(['loss', 'val_loss'])"
      ]
     },
     "execution_count": 75,
     "metadata": {
      "tags": []
     },
     "output_type": "execute_result"
    }
   ],
   "source": [
    "history.history.keys()"
   ]
  },
  {
   "cell_type": "code",
   "execution_count": null,
   "metadata": {
    "colab": {
     "base_uri": "https://localhost:8080/",
     "height": 295
    },
    "id": "HN5bDyQij3zz",
    "outputId": "4250bef5-63e3-434a-92b2-1490b7d79f7a"
   },
   "outputs": [
    {
     "data": {
      "image/png": "[encoded data removed]",
      "text/plain": [
       "<Figure size 432x288 with 1 Axes>"
      ]
     },
     "metadata": {
      "needs_background": "light",
      "tags": []
     },
     "output_type": "display_data"
    }
   ],
   "source": [
    "#Visualize the models loss\n",
    "plt.plot(history.history['loss'])\n",
    "plt.plot(history.history['val_loss'])\n",
    "plt.title('Model Loss')\n",
    "plt.ylabel('Loss')\n",
    "plt.xlabel('Epoch')\n",
    "plt.legend(['Training', 'Validation'], loc='upper right')\n",
    "plt.grid()\n",
    "plt.show()"
   ]
  },
  {
   "cell_type": "code",
   "execution_count": null,
   "metadata": {
    "colab": {
     "base_uri": "https://localhost:8080/"
    },
    "id": "K6IjmPzjj7Tz",
    "outputId": "2795f201-941a-4790-8ba2-35d67b2e254e"
   },
   "outputs": [
    {
     "name": "stdout",
     "output_type": "stream",
     "text": [
      "CPU times: user 434 ms, sys: 46.9 ms, total: 481 ms\n",
      "Wall time: 410 ms\n"
     ]
    }
   ],
   "source": [
    "%%time\n",
    "# encode and decode some digits\n",
    "# note that we take them from the *test* set\n",
    "\n",
    "decoded_test_images = autoencoder.predict(test_images)\n",
    "#decoded_test_images = autoencoder.predict(test_images_noisy_norm)\n"
   ]
  },
  {
   "cell_type": "code",
   "execution_count": null,
   "metadata": {
    "colab": {
     "base_uri": "https://localhost:8080/"
    },
    "id": "NtApXsJtkA24",
    "outputId": "3f776c7c-8ffc-4950-be31-d49ebeb5c136"
   },
   "outputs": [
    {
     "name": "stdout",
     "output_type": "stream",
     "text": [
      "MSE = 0.00789\n"
     ]
    }
   ],
   "source": [
    "\n",
    "MSE = np.square(test_images - decoded_test_images).mean()\n",
    "print('MSE = ' + str(round(MSE,5)))"
   ]
  },
  {
   "cell_type": "code",
   "execution_count": null,
   "metadata": {
    "colab": {
     "base_uri": "https://localhost:8080/"
    },
    "id": "x4hfBL3ikHZM",
    "outputId": "e8360458-d7f6-49f7-c746-cd0f1711b0bb"
   },
   "outputs": [
    {
     "name": "stdout",
     "output_type": "stream",
     "text": [
      "SSIM = 0.83\n"
     ]
    }
   ],
   "source": [
    "ssim_list = []\n",
    "for i in range(len(test_images)):\n",
    "    ssim = structural_similarity(test_images[i].reshape(28,28), decoded_test_images[i].reshape(28,28))\n",
    "    ssim_list.append(ssim)\n",
    "ssim_mean = np.array(ssim_list).mean()\n",
    "print('SSIM = ' + str(round(ssim_mean,2)))"
   ]
  },
  {
   "cell_type": "markdown",
   "metadata": {
    "id": "i8b1GTzxp7Xs"
   },
   "source": [
    "## using bn"
   ]
  },
  {
   "cell_type": "code",
   "execution_count": null,
   "metadata": {
    "id": "WiycFf1aTFzG"
   },
   "outputs": [],
   "source": [
    "# using bn (my model)\n",
    "input_image  = Input(shape=(28,28,1), name='Input_Layer')\n",
    "x_c = GaussianNoise(0.3)(input_image)\n",
    "h_1 = Conv2D(32, (3, 3), padding='same',activation='relu', name='Conv_Layer_1')(x_c)\n",
    "\n",
    "h_1b = BatchNormalization()(h_1)\n",
    "\n",
    "p_1 = MaxPooling2D((2, 2))(h_1b)\n",
    "h_2 = Conv2D(32, (3, 3), padding='same',activation='relu', name='Conv_Layer_2')(p_1)\n",
    "\n",
    "h_2b = BatchNormalization()(h_2)\n",
    "\n",
    "z = MaxPooling2D((2, 2))(h_2b)\n",
    "h_3 = Conv2DTranspose(32, (3, 3), padding='same',strides=(2, 2), activation='relu', name='Conv_Transpose_Layer_1')(z)\n",
    "\n",
    "#h_3b = BatchNormalization()(h_3)\n",
    "\n",
    "y = Conv2DTranspose(1, (3, 3), padding='same',strides=(2, 2), activation='relu', name='Output_Layer')(h_3)\n",
    "\n",
    "#autoencoder = Model(input_image, decoded)\n",
    "\n",
    "\n",
    "\n",
    "\n",
    "\n",
    "\n"
   ]
  },
  {
   "cell_type": "code",
   "execution_count": null,
   "metadata": {
    "id": "F_7T6yDhsRW-"
   },
   "outputs": [],
   "source": [
    "autoencoder = Model(input_image, y, name='Denoising_Autoencoder')\n"
   ]
  },
  {
   "cell_type": "code",
   "execution_count": null,
   "metadata": {
    "id": "h6PM9idDTFl6"
   },
   "outputs": [],
   "source": [
    "#import tensorflow as tf\n",
    "#tf.keras.utils.plot_model(autoencoder, to_file='DAE.png', show_shapes=True)\n",
    "\n"
   ]
  },
  {
   "cell_type": "code",
   "execution_count": null,
   "metadata": {
    "colab": {
     "base_uri": "https://localhost:8080/"
    },
    "id": "nnh01o7vnc9y",
    "outputId": "2b4f86b5-8112-4d07-af7c-1df438e66336"
   },
   "outputs": [
    {
     "name": "stdout",
     "output_type": "stream",
     "text": [
      "Model: \"Denoising_Autoencoder\"\n",
      "_________________________________________________________________\n",
      "Layer (type)                 Output Shape              Param #   \n",
      "=================================================================\n",
      "Input_Layer (InputLayer)     [(None, 28, 28, 1)]       0         \n",
      "_________________________________________________________________\n",
      "gaussian_noise (GaussianNois (None, 28, 28, 1)         0         \n",
      "_________________________________________________________________\n",
      "Conv_Layer_1 (Conv2D)        (None, 28, 28, 32)        320       \n",
      "_________________________________________________________________\n",
      "batch_normalization (BatchNo (None, 28, 28, 32)        128       \n",
      "_________________________________________________________________\n",
      "max_pooling2d (MaxPooling2D) (None, 14, 14, 32)        0         \n",
      "_________________________________________________________________\n",
      "Conv_Layer_2 (Conv2D)        (None, 14, 14, 32)        9248      \n",
      "_________________________________________________________________\n",
      "batch_normalization_1 (Batch (None, 14, 14, 32)        128       \n",
      "_________________________________________________________________\n",
      "max_pooling2d_1 (MaxPooling2 (None, 7, 7, 32)          0         \n",
      "_________________________________________________________________\n",
      "Conv_Transpose_Layer_1 (Conv (None, 14, 14, 32)        9248      \n",
      "_________________________________________________________________\n",
      "Output_Layer (Conv2DTranspos (None, 28, 28, 1)         289       \n",
      "=================================================================\n",
      "Total params: 19,361\n",
      "Trainable params: 19,233\n",
      "Non-trainable params: 128\n",
      "_________________________________________________________________\n"
     ]
    }
   ],
   "source": [
    "autoencoder.summary()"
   ]
  },
  {
   "cell_type": "code",
   "execution_count": null,
   "metadata": {
    "colab": {
     "base_uri": "https://localhost:8080/"
    },
    "id": "DnQMdudcTBBC",
    "outputId": "cfc658e5-c76a-4c4d-a258-ce3669bfae4a"
   },
   "outputs": [
    {
     "name": "stdout",
     "output_type": "stream",
     "text": [
      "Epoch 1/25\n",
      "188/188 [==============================] - 2s 10ms/step - loss: 0.0302 - val_loss: 0.1057\n",
      "Epoch 2/25\n",
      "188/188 [==============================] - 2s 9ms/step - loss: 0.0146 - val_loss: 0.0487\n",
      "Epoch 3/25\n",
      "188/188 [==============================] - 2s 9ms/step - loss: 0.0130 - val_loss: 0.0193\n",
      "Epoch 4/25\n",
      "188/188 [==============================] - 2s 9ms/step - loss: 0.0121 - val_loss: 0.0122\n",
      "Epoch 5/25\n",
      "188/188 [==============================] - 2s 9ms/step - loss: 0.0116 - val_loss: 0.0098\n",
      "Epoch 6/25\n",
      "188/188 [==============================] - 2s 9ms/step - loss: 0.0112 - val_loss: 0.0097\n",
      "Epoch 7/25\n",
      "188/188 [==============================] - 2s 9ms/step - loss: 0.0110 - val_loss: 0.0090\n",
      "Epoch 8/25\n",
      "188/188 [==============================] - 2s 9ms/step - loss: 0.0108 - val_loss: 0.0083\n",
      "Epoch 9/25\n",
      "188/188 [==============================] - 2s 9ms/step - loss: 0.0107 - val_loss: 0.0078\n",
      "Epoch 10/25\n",
      "188/188 [==============================] - 2s 9ms/step - loss: 0.0105 - val_loss: 0.0087\n",
      "Epoch 11/25\n",
      "188/188 [==============================] - 2s 9ms/step - loss: 0.0104 - val_loss: 0.0080\n",
      "Epoch 12/25\n",
      "188/188 [==============================] - 2s 9ms/step - loss: 0.0103 - val_loss: 0.0073\n",
      "Epoch 13/25\n",
      "188/188 [==============================] - 2s 9ms/step - loss: 0.0103 - val_loss: 0.0075\n",
      "Epoch 14/25\n",
      "188/188 [==============================] - 2s 9ms/step - loss: 0.0101 - val_loss: 0.0075\n",
      "Epoch 15/25\n",
      "188/188 [==============================] - 2s 9ms/step - loss: 0.0101 - val_loss: 0.0078\n",
      "Epoch 16/25\n",
      "188/188 [==============================] - 2s 9ms/step - loss: 0.0100 - val_loss: 0.0073\n",
      "Epoch 17/25\n",
      "188/188 [==============================] - 2s 9ms/step - loss: 0.0100 - val_loss: 0.0077\n",
      "Epoch 18/25\n",
      "188/188 [==============================] - 2s 9ms/step - loss: 0.0099 - val_loss: 0.0078\n",
      "Epoch 19/25\n",
      "188/188 [==============================] - 2s 9ms/step - loss: 0.0100 - val_loss: 0.0070\n",
      "Epoch 20/25\n",
      "188/188 [==============================] - 2s 9ms/step - loss: 0.0099 - val_loss: 0.0072\n",
      "Epoch 21/25\n",
      "188/188 [==============================] - 2s 9ms/step - loss: 0.0098 - val_loss: 0.0070\n",
      "Epoch 22/25\n",
      "188/188 [==============================] - 2s 9ms/step - loss: 0.0098 - val_loss: 0.0071\n",
      "Epoch 23/25\n",
      "188/188 [==============================] - 2s 9ms/step - loss: 0.0098 - val_loss: 0.0066\n",
      "Epoch 24/25\n",
      "188/188 [==============================] - 2s 9ms/step - loss: 0.0097 - val_loss: 0.0069\n",
      "Epoch 25/25\n",
      "188/188 [==============================] - 2s 9ms/step - loss: 0.0097 - val_loss: 0.0069\n"
     ]
    }
   ],
   "source": [
    "autoencoder.compile(optimizer='adam', loss='mean_squared_error')\n",
    "\n",
    "history = autoencoder.fit(train_images,train_images, epochs=25, batch_size=256, validation_split=0.2)"
   ]
  },
  {
   "cell_type": "code",
   "execution_count": null,
   "metadata": {
    "colab": {
     "base_uri": "https://localhost:8080/",
     "height": 282
    },
    "id": "-WU5Wr9yyhor",
    "outputId": "de778ce7-7a2a-46b6-caa6-db8a8088f108"
   },
   "outputs": [
    {
     "data": {
      "text/plain": [
       "<matplotlib.image.AxesImage at 0x7fe96c06f978>"
      ]
     },
     "execution_count": 46,
     "metadata": {
      "tags": []
     },
     "output_type": "execute_result"
    },
    {
     "data": {
      "image/png": "[encoded data removed]",
      "text/plain": [
       "<Figure size 432x288 with 1 Axes>"
      ]
     },
     "metadata": {
      "needs_background": "light",
      "tags": []
     },
     "output_type": "display_data"
    }
   ],
   "source": [
    "plt.imshow(test_images[1].reshape(28,28), cmap='gray')"
   ]
  },
  {
   "cell_type": "code",
   "execution_count": null,
   "metadata": {
    "colab": {
     "base_uri": "https://localhost:8080/"
    },
    "id": "__CGP2XiodA5",
    "outputId": "f6cbcb73-c3e4-4aa8-b163-98460e9e775f"
   },
   "outputs": [
    {
     "name": "stdout",
     "output_type": "stream",
     "text": [
      "CPU times: user 480 ms, sys: 46.1 ms, total: 526 ms\n",
      "Wall time: 443 ms\n"
     ]
    }
   ],
   "source": [
    "%%time\n",
    "# encode and decode some digits\n",
    "# note that we take them from the *test* set\n",
    "\n",
    "decoded_test_images = autoencoder.predict(test_images)\n",
    "#decoded_test_images = autoencoder.predict(test_images_noisy_norm)"
   ]
  },
  {
   "cell_type": "code",
   "execution_count": null,
   "metadata": {
    "colab": {
     "base_uri": "https://localhost:8080/"
    },
    "id": "qvlt8L_btpum",
    "outputId": "f408e929-d12b-4dd2-9f85-daa4f2b349e5"
   },
   "outputs": [
    {
     "name": "stdout",
     "output_type": "stream",
     "text": [
      "CPU times: user 590 ms, sys: 57.1 ms, total: 647 ms\n",
      "Wall time: 560 ms\n"
     ]
    }
   ],
   "source": [
    "%%time\n",
    "# encode and decode some digits\n",
    "# note that we take them from the *test* set\n",
    "\n",
    "decoded_test_images = autoencoder.predict(test_images)\n",
    "#decoded_test_images = autoencoder.predict(test_images_noisy_norm)"
   ]
  },
  {
   "cell_type": "code",
   "execution_count": null,
   "metadata": {
    "colab": {
     "base_uri": "https://localhost:8080/"
    },
    "id": "vJUjf1d_sIY1",
    "outputId": "8fa531d8-8893-425f-a66f-4a34294de531"
   },
   "outputs": [
    {
     "name": "stdout",
     "output_type": "stream",
     "text": [
      "MSE = 0.00698\n"
     ]
    }
   ],
   "source": [
    "\n",
    "MSE = np.square(test_images - decoded_test_images).mean()\n",
    "print('MSE = ' + str(round(MSE,5)))"
   ]
  },
  {
   "cell_type": "code",
   "execution_count": null,
   "metadata": {
    "colab": {
     "base_uri": "https://localhost:8080/"
    },
    "id": "kpzYAvqEt--l",
    "outputId": "ef184f26-6ed3-42a4-ab55-6f90a00c9edb"
   },
   "outputs": [
    {
     "name": "stdout",
     "output_type": "stream",
     "text": [
      "PSNR = 69.7\n"
     ]
    }
   ],
   "source": [
    "psnr = 10*np.log10(255**2/MSE)\n",
    "print('PSNR = ' + str(round(psnr,2)))"
   ]
  },
  {
   "cell_type": "code",
   "execution_count": null,
   "metadata": {
    "colab": {
     "base_uri": "https://localhost:8080/"
    },
    "id": "NCCTRXRBrRTI",
    "outputId": "28903c5f-55ab-40a2-fde5-3a5aa57dcf34"
   },
   "outputs": [
    {
     "name": "stdout",
     "output_type": "stream",
     "text": [
      "SSIM = 0.84\n"
     ]
    }
   ],
   "source": [
    "ssim_list = []\n",
    "for i in range(len(test_images)):\n",
    "    ssim = structural_similarity(test_images[i].reshape(28,28), decoded_test_images[i].reshape(28,28))\n",
    "    ssim_list.append(ssim)\n",
    "ssim_mean = np.array(ssim_list).mean()\n",
    "print('SSIM = ' + str(round(ssim_mean,2)))"
   ]
  },
  {
   "cell_type": "code",
   "execution_count": null,
   "metadata": {
    "colab": {
     "base_uri": "https://localhost:8080/",
     "height": 295
    },
    "id": "-Tj74Y4eyLuN",
    "outputId": "9a138efe-a904-47cb-e77a-65ba47391570"
   },
   "outputs": [
    {
     "data": {
      "image/png": "[encoded data removed]",
      "text/plain": [
       "<Figure size 432x288 with 1 Axes>"
      ]
     },
     "metadata": {
      "needs_background": "light",
      "tags": []
     },
     "output_type": "display_data"
    }
   ],
   "source": [
    "#Visualize the models loss\n",
    "fig = plt.figure()\n",
    "plt.plot(history.history['loss'])\n",
    "plt.plot(history.history['val_loss'])\n",
    "plt.title('Model Loss')\n",
    "plt.ylabel('Loss')\n",
    "plt.xlabel('Epoch')\n",
    "plt.legend(['Training', 'Validation'], loc='upper right')\n",
    "plt.grid()\n",
    "plt.show()\n",
    "fig.savefig('Model_loss.png', bbox_inches='tight')\n"
   ]
  },
  {
   "cell_type": "markdown",
   "metadata": {
    "id": "fdwi3kzhxMSU"
   },
   "source": [
    "### Previous trial "
   ]
  },
  {
   "cell_type": "code",
   "execution_count": null,
   "metadata": {
    "colab": {
     "base_uri": "https://localhost:8080/"
    },
    "id": "DYbLcYWMyZRA",
    "outputId": "f2cffcbc-a9b7-40d0-eade-6568165ccdf3"
   },
   "outputs": [
    {
     "name": "stdout",
     "output_type": "stream",
     "text": [
      "CPU times: user 445 ms, sys: 32.9 ms, total: 478 ms\n",
      "Wall time: 414 ms\n"
     ]
    }
   ],
   "source": [
    "%%time\n",
    "# encode and decode some digits\n",
    "# note that we take them from the *test* set\n",
    "\n",
    "decoded_test_images = autoencoder.predict(test_images)\n",
    "#decoded_test_images = autoencoder.predict(test_images_noisy_norm)\n"
   ]
  },
  {
   "cell_type": "code",
   "execution_count": null,
   "metadata": {
    "colab": {
     "base_uri": "https://localhost:8080/"
    },
    "id": "RA9L4oLjyagS",
    "outputId": "4167ed11-f8b6-4e87-9b8c-7e5d9e1bcb09"
   },
   "outputs": [
    {
     "name": "stdout",
     "output_type": "stream",
     "text": [
      "MSE = 0.00691\n"
     ]
    }
   ],
   "source": [
    "\n",
    "MSE = np.square(test_images - decoded_test_images).mean()\n",
    "print('MSE = ' + str(round(MSE,5)))"
   ]
  },
  {
   "cell_type": "code",
   "execution_count": null,
   "metadata": {
    "colab": {
     "base_uri": "https://localhost:8080/"
    },
    "id": "oZ_EI0gUyfyd",
    "outputId": "39810b9a-eaa5-458d-fe80-2ae8a8c1ce6f"
   },
   "outputs": [
    {
     "name": "stdout",
     "output_type": "stream",
     "text": [
      "SSIM = 0.83\n"
     ]
    }
   ],
   "source": [
    "ssim_list = []\n",
    "for i in range(len(test_images)):\n",
    "    ssim = structural_similarity(test_images[i].reshape(28,28), decoded_test_images[i].reshape(28,28))\n",
    "    ssim_list.append(ssim)\n",
    "ssim_mean = np.array(ssim_list).mean()\n",
    "print('SSIM = ' + str(round(ssim_mean,2)))"
   ]
  },
  {
   "cell_type": "code",
   "execution_count": null,
   "metadata": {
    "colab": {
     "base_uri": "https://localhost:8080/",
     "height": 282
    },
    "id": "3ILgt74BylUl",
    "outputId": "33146f66-ff92-4c2a-992f-48d13ea6be73"
   },
   "outputs": [
    {
     "data": {
      "text/plain": [
       "<matplotlib.image.AxesImage at 0x7f367a7db1d0>"
      ]
     },
     "execution_count": 61,
     "metadata": {
      "tags": []
     },
     "output_type": "execute_result"
    },
    {
     "data": {
      "image/png": "[encoded data removed]",
      "text/plain": [
       "<Figure size 432x288 with 1 Axes>"
      ]
     },
     "metadata": {
      "needs_background": "light",
      "tags": []
     },
     "output_type": "display_data"
    }
   ],
   "source": [
    "plt.imshow(decoded_test_images[1].reshape(28,28), cmap='gray')"
   ]
  },
  {
   "cell_type": "markdown",
   "metadata": {
    "id": "YA-HoOGfp_C2"
   },
   "source": [
    "## using SSIM"
   ]
  },
  {
   "cell_type": "code",
   "execution_count": null,
   "metadata": {
    "id": "96lMWOkTEsKB"
   },
   "outputs": [],
   "source": [
    "# using the ssim loss\n",
    "import tensorflow as tf\n",
    "\n",
    "def SSIMLoss(y_true, y_pred):\n",
    "    return 1 - tf.reduce_mean(tf.image.ssim(y_true, y_pred, 1.0))\n",
    "\n",
    "input_image  = Input(shape=(28,28,1))\n",
    "x_c = GaussianNoise(0.3)(input_image)\n",
    "h_1 = Conv2D(64, (3, 3), padding='same',activation='relu')(x_c)\n",
    "h_1b = BatchNormalization()(h_1)\n",
    "\n",
    "p_1 = MaxPooling2D((2, 2))(h_1b)\n",
    "h_2 = Conv2D(32, (3, 3), padding='same',activation='relu')(p_1)\n",
    "h_2b = BatchNormalization()(h_2)\n",
    "\n",
    "z = MaxPooling2D((2, 2))(h_2b)\n",
    "h_3 = Conv2DTranspose(64, (3, 3), padding='same',strides=(2, 2), activation='relu')(z)\n",
    "h_3b = BatchNormalization()(h_3)\n",
    "\n",
    "y = Conv2DTranspose(1, (3, 3), padding='same',strides=(2, 2), activation='sigmoid')(h_3b)\n",
    "\n",
    "#autoencoder = Model(input_image, decoded)\n",
    "autoencoder = Model(input_image, y)\n",
    "\n",
    "\n"
   ]
  },
  {
   "cell_type": "code",
   "execution_count": null,
   "metadata": {
    "id": "i120fXc1riYP"
   },
   "outputs": [],
   "source": [
    "#autoencoder.summary()"
   ]
  },
  {
   "cell_type": "code",
   "execution_count": null,
   "metadata": {
    "colab": {
     "base_uri": "https://localhost:8080/"
    },
    "id": "nTNro8exni-B",
    "outputId": "34983967-69e4-4c03-b363-0ee4b8d3bad3"
   },
   "outputs": [
    {
     "name": "stdout",
     "output_type": "stream",
     "text": [
      "Epoch 1/10\n",
      "235/235 [==============================] - 8s 34ms/step - loss: 0.3960 - val_loss: 0.7843\n",
      "Epoch 2/10\n",
      "235/235 [==============================] - 7s 32ms/step - loss: 0.2906 - val_loss: 0.4228\n",
      "Epoch 3/10\n",
      "235/235 [==============================] - 7s 32ms/step - loss: 0.2731 - val_loss: 0.2602\n",
      "Epoch 4/10\n",
      "235/235 [==============================] - 8s 32ms/step - loss: 0.2671 - val_loss: 0.2521\n",
      "Epoch 5/10\n",
      "235/235 [==============================] - 7s 32ms/step - loss: 0.2633 - val_loss: 0.2549\n",
      "Epoch 6/10\n",
      "235/235 [==============================] - 7s 32ms/step - loss: 0.2610 - val_loss: 0.2509\n",
      "Epoch 7/10\n",
      "235/235 [==============================] - 7s 32ms/step - loss: 0.2590 - val_loss: 0.2308\n",
      "Epoch 8/10\n",
      "235/235 [==============================] - 7s 32ms/step - loss: 0.2579 - val_loss: 0.2330\n",
      "Epoch 9/10\n",
      "235/235 [==============================] - 7s 32ms/step - loss: 0.2565 - val_loss: 0.2287\n",
      "Epoch 10/10\n",
      "235/235 [==============================] - 7s 32ms/step - loss: 0.2556 - val_loss: 0.2362\n"
     ]
    }
   ],
   "source": [
    "autoencoder.compile(optimizer='adam', loss=SSIMLoss)\n",
    "\n",
    "history = autoencoder.fit(train_images,train_images, epochs=10, batch_size=256,shuffle=True, validation_data=(test_images,test_images))"
   ]
  },
  {
   "cell_type": "code",
   "execution_count": null,
   "metadata": {
    "colab": {
     "base_uri": "https://localhost:8080/",
     "height": 295
    },
    "id": "kn49HzFAzqUx",
    "outputId": "e55f0645-f291-41b8-daaa-144bd0a44736"
   },
   "outputs": [
    {
     "data": {
      "image/png": "[encoded data removed]",
      "text/plain": [
       "<Figure size 432x288 with 1 Axes>"
      ]
     },
     "metadata": {
      "needs_background": "light",
      "tags": []
     },
     "output_type": "display_data"
    }
   ],
   "source": [
    "#Visualize the models loss\n",
    "plt.plot(history.history['loss'])\n",
    "plt.plot(history.history['val_loss'])\n",
    "plt.title('Model Loss')\n",
    "plt.ylabel('Loss')\n",
    "plt.xlabel('Epoch')\n",
    "plt.legend(['Training', 'Validation'], loc='upper right')\n",
    "plt.grid()\n",
    "plt.show()"
   ]
  },
  {
   "cell_type": "code",
   "execution_count": null,
   "metadata": {
    "colab": {
     "base_uri": "https://localhost:8080/"
    },
    "id": "F_aaLxepYrlv",
    "outputId": "f4a6ddf0-3339-41a9-9c61-e86362949cb5"
   },
   "outputs": [
    {
     "name": "stdout",
     "output_type": "stream",
     "text": [
      "CPU times: user 638 ms, sys: 74.3 ms, total: 713 ms\n",
      "Wall time: 729 ms\n"
     ]
    }
   ],
   "source": [
    "%%time\n",
    "# encode and decode some digits\n",
    "# note that we take them from the *test* set\n",
    "\n",
    "#decoded_test_images = autoencoder.predict(test_images)\n",
    "decoded_test_images = autoencoder.predict(test_images_noisy_norm)\n"
   ]
  },
  {
   "cell_type": "code",
   "execution_count": null,
   "metadata": {
    "colab": {
     "base_uri": "https://localhost:8080/"
    },
    "id": "mlD_nx1Oa-0r",
    "outputId": "6210a949-85ac-4d3f-e8bf-e2ecbee5b561"
   },
   "outputs": [
    {
     "name": "stdout",
     "output_type": "stream",
     "text": [
      "MSE = 0.10231\n"
     ]
    }
   ],
   "source": [
    "\n",
    "MSE = np.square(test_images - decoded_test_images).mean()\n",
    "print('MSE = ' + str(round(MSE,5)))"
   ]
  },
  {
   "cell_type": "code",
   "execution_count": null,
   "metadata": {
    "colab": {
     "base_uri": "https://localhost:8080/"
    },
    "id": "TXjWu1SBPLww",
    "outputId": "9faefe4a-9ff2-4fe7-eec9-61b51df7bf29"
   },
   "outputs": [
    {
     "name": "stdout",
     "output_type": "stream",
     "text": [
      "PSNR = 69.23\n"
     ]
    }
   ],
   "source": [
    "psnr = 10*np.log10(255**2/MSE)\n",
    "print('PSNR = ' + str(round(psnr,2)))"
   ]
  },
  {
   "cell_type": "code",
   "execution_count": null,
   "metadata": {
    "colab": {
     "base_uri": "https://localhost:8080/"
    },
    "id": "L7bvByqPPuhG",
    "outputId": "d8a90a98-0f98-4e04-f65e-3b20284215cc"
   },
   "outputs": [
    {
     "name": "stdout",
     "output_type": "stream",
     "text": [
      "SSIM = 0.28\n"
     ]
    }
   ],
   "source": [
    "ssim_list = []\n",
    "for i in range(len(test_images)):\n",
    "    ssim = structural_similarity(test_images[i].reshape(28,28), decoded_test_images[i].reshape(28,28))\n",
    "    ssim_list.append(ssim)\n",
    "ssim_mean = np.array(ssim_list).mean()\n",
    "print('SSIM = ' + str(round(ssim_mean,2)))"
   ]
  },
  {
   "cell_type": "code",
   "execution_count": null,
   "metadata": {
    "colab": {
     "base_uri": "https://localhost:8080/"
    },
    "id": "TnHgbAY93NWA",
    "outputId": "56a52080-33b6-4a68-94b9-97546099cad7"
   },
   "outputs": [
    {
     "name": "stdout",
     "output_type": "stream",
     "text": [
      "SSIM = 0.37\n"
     ]
    }
   ],
   "source": [
    "ssim_list = []\n",
    "for i in range(len(test_images)):\n",
    "    ssim = structural_similarity(test_images[i].reshape(28,28), test_images_noisy_norm[i].reshape(28,28))\n",
    "    ssim_list.append(ssim)\n",
    "ssim_mean = np.array(ssim_list).mean()\n",
    "print('SSIM = ' + str(round(ssim_mean,2)))"
   ]
  },
  {
   "cell_type": "code",
   "execution_count": null,
   "metadata": {
    "colab": {
     "base_uri": "https://localhost:8080/",
     "height": 282
    },
    "id": "DwKB6iV928jP",
    "outputId": "3ac492d7-f40a-4c81-abf8-3279d5e67731"
   },
   "outputs": [
    {
     "data": {
      "text/plain": [
       "<matplotlib.image.AxesImage at 0x7f2d3653fd30>"
      ]
     },
     "execution_count": 139,
     "metadata": {
      "tags": []
     },
     "output_type": "execute_result"
    },
    {
     "data": {
      "image/png": "[encoded data removed]",
      "text/plain": [
       "<Figure size 432x288 with 1 Axes>"
      ]
     },
     "metadata": {
      "needs_background": "light",
      "tags": []
     },
     "output_type": "display_data"
    }
   ],
   "source": [
    "plt.imshow(test_images_noisy[1].reshape(28,28), cmap='gray')"
   ]
  },
  {
   "cell_type": "code",
   "execution_count": null,
   "metadata": {
    "colab": {
     "base_uri": "https://localhost:8080/",
     "height": 282
    },
    "id": "0xVqIIRUzFT8",
    "outputId": "87804bbf-fa5c-48cf-bffc-3b02579567bf"
   },
   "outputs": [
    {
     "data": {
      "text/plain": [
       "<matplotlib.image.AxesImage at 0x7f2d000b5438>"
      ]
     },
     "execution_count": 138,
     "metadata": {
      "tags": []
     },
     "output_type": "execute_result"
    },
    {
     "data": {
      "image/png": "[encoded data removed]",
      "text/plain": [
       "<Figure size 432x288 with 1 Axes>"
      ]
     },
     "metadata": {
      "needs_background": "light",
      "tags": []
     },
     "output_type": "display_data"
    }
   ],
   "source": [
    "plt.imshow(decoded_test_images[1].reshape(28,28), cmap='gray')"
   ]
  },
  {
   "cell_type": "code",
   "execution_count": null,
   "metadata": {
    "colab": {
     "base_uri": "https://localhost:8080/",
     "height": 282
    },
    "id": "9ajYKS0_QMvA",
    "outputId": "0adb54d7-56ee-4608-f70b-d9aad125db11"
   },
   "outputs": [
    {
     "data": {
      "text/plain": [
       "<matplotlib.image.AxesImage at 0x7f2d483ee160>"
      ]
     },
     "execution_count": 11,
     "metadata": {
      "tags": []
     },
     "output_type": "execute_result"
    },
    {
     "data": {
      "image/png": "[encoded data removed]",
      "text/plain": [
       "<Figure size 432x288 with 1 Axes>"
      ]
     },
     "metadata": {
      "needs_background": "light",
      "tags": []
     },
     "output_type": "display_data"
    }
   ],
   "source": [
    "plt.imshow(test_images[1].reshape(28,28), cmap='gray')"
   ]
  },
  {
   "cell_type": "code",
   "execution_count": null,
   "metadata": {
    "colab": {
     "base_uri": "https://localhost:8080/",
     "height": 282
    },
    "id": "4mYx8e4qQUjM",
    "outputId": "c5d9b263-0221-4c14-a1ea-97781083dbd4"
   },
   "outputs": [
    {
     "data": {
      "text/plain": [
       "<matplotlib.image.AxesImage at 0x7f2d483afe10>"
      ]
     },
     "execution_count": 12,
     "metadata": {
      "tags": []
     },
     "output_type": "execute_result"
    },
    {
     "data": {
      "image/png": "[encoded data removed]",
      "text/plain": [
       "<Figure size 432x288 with 1 Axes>"
      ]
     },
     "metadata": {
      "needs_background": "light",
      "tags": []
     },
     "output_type": "display_data"
    }
   ],
   "source": []
  },
  {
   "cell_type": "code",
   "execution_count": null,
   "metadata": {
    "colab": {
     "base_uri": "https://localhost:8080/",
     "height": 241
    },
    "id": "DJKKVKWhTM2p",
    "outputId": "b6f743bf-7e22-4477-8493-e35c819a5caf"
   },
   "outputs": [
    {
     "data": {
      "image/png": "[encoded data removed]",
      "text/plain": [
       "<Figure size 1440x288 with 20 Axes>"
      ]
     },
     "metadata": {
      "needs_background": "light",
      "tags": []
     },
     "output_type": "display_data"
    }
   ],
   "source": [
    "n = 10  # how many digits we will display\n",
    "plt.figure(figsize=(20, 4))\n",
    "for i in range(n):\n",
    "    # display original\n",
    "    plt.subplot(2, n, i + 1)\n",
    "    plt.imshow(test_images[i].reshape(28, 28))\n",
    "    plt.gray()\n",
    "    plt.axis(\"off\")\n",
    "    # display reconstruction\n",
    "    plt.subplot(2, n, i + 1 + n)\n",
    "    plt.imshow(decoded_test_images[i].reshape(28, 28))\n",
    "    plt.gray()\n",
    "    plt.axis(\"off\")\n",
    "plt.show()"
   ]
  },
  {
   "cell_type": "code",
   "execution_count": null,
   "metadata": {
    "id": "cY4Op2asUs9o"
   },
   "outputs": [],
   "source": []
  },
  {
   "cell_type": "markdown",
   "metadata": {
    "id": "hJ-NwmfXZmi4"
   },
   "source": [
    "# Mean filter"
   ]
  },
  {
   "cell_type": "code",
   "execution_count": null,
   "metadata": {
    "id": "WWVLhUVXZogU"
   },
   "outputs": [],
   "source": [
    "import cv2\n",
    "from skimage.restoration import denoise_nl_means\n"
   ]
  },
  {
   "cell_type": "code",
   "execution_count": null,
   "metadata": {
    "colab": {
     "base_uri": "https://localhost:8080/"
    },
    "id": "FqJEF3jpol35",
    "outputId": "6fb5679f-eea9-4243-fbeb-b93ddf55a784"
   },
   "outputs": [
    {
     "name": "stdout",
     "output_type": "stream",
     "text": [
      "CPU times: user 57.8 s, sys: 0 ns, total: 57.8 s\n",
      "Wall time: 57.8 s\n"
     ]
    }
   ],
   "source": [
    "# Applying the mean filter and measuring the excution time\n",
    "# Non-local Means Denoising algorithm http://www.ipol.im/pub/algo/bcm_non_local_means_denoising\n",
    "# https://docs.opencv.org/3.4/d1/d79/group__photo__denoise.html#ga4c6b0031f56ea3f98f768881279ffe93\n",
    "%%time\n",
    "\n",
    "test_images_denoised_mean = []\n",
    "for i in range(len(test_images_noisy)):\n",
    "    #dst = cv2.fastNlMeansDenoising(np.round(noisy*255).astype('uint8'), None, h=15)\n",
    "    denoised_image = cv2.fastNlMeansDenoising(test_images_noisy[i], None, h=20)\n",
    "    test_images_denoised_mean.append(denoised_image)\n"
   ]
  },
  {
   "cell_type": "code",
   "execution_count": null,
   "metadata": {
    "colab": {
     "base_uri": "https://localhost:8080/"
    },
    "id": "2u5yMyI_S1Ad",
    "outputId": "82d4870f-5845-47b2-f7a8-ec2a91dacb2b"
   },
   "outputs": [
    {
     "name": "stdout",
     "output_type": "stream",
     "text": [
      "CPU times: user 1min 3s, sys: 8.97 ms, total: 1min 3s\n",
      "Wall time: 1min 3s\n"
     ]
    }
   ],
   "source": [
    "# Applying the mean filter and measuring the excution time\n",
    "# Non-local Means Denoising algorithm http://www.ipol.im/pub/algo/bcm_non_local_means_denoising\n",
    "# https://docs.opencv.org/3.4/d1/d79/group__photo__denoise.html#ga4c6b0031f56ea3f98f768881279ffe93\n",
    "%%time\n",
    "\n",
    "test_images_denoised_mean = []\n",
    "for i in range(len(test_images_noisy)):\n",
    "    #dst = cv2.fastNlMeansDenoising(np.round(noisy*255).astype('uint8'), None, h=15)\n",
    "    denoised_image = cv2.fastNlMeansDenoising(test_images_noisy[i], None, h=20)\n",
    "    test_images_denoised_mean.append(denoised_image)\n",
    "\n"
   ]
  },
  {
   "cell_type": "code",
   "execution_count": null,
   "metadata": {
    "colab": {
     "base_uri": "https://localhost:8080/"
    },
    "id": "JtcMxq7LBvLi",
    "outputId": "1e1ed7bb-55af-4ccb-f482-a393e2e5aafe"
   },
   "outputs": [
    {
     "name": "stdout",
     "output_type": "stream",
     "text": [
      "MSE = 7778.15\n"
     ]
    }
   ],
   "source": [
    "# h=20\n",
    "mse_list = []\n",
    "for i in range(len(test_images)):\n",
    "    mse = mean_squared_error(test_images[i], test_images_denoised_mean[i])\n",
    "    mse_list.append(mse)\n",
    "mse_mean = np.array(mse_list).mean()\n",
    "print('MSE = ' + str(round(mse_mean,2)))"
   ]
  },
  {
   "cell_type": "code",
   "execution_count": null,
   "metadata": {
    "colab": {
     "base_uri": "https://localhost:8080/"
    },
    "id": "AW0kcxg_O7SZ",
    "outputId": "2d1fe148-8583-4331-bc30-4532736b3c2a"
   },
   "outputs": [
    {
     "name": "stdout",
     "output_type": "stream",
     "text": [
      "PSNR = 9.22\n"
     ]
    }
   ],
   "source": [
    "psnr = 10*np.log10(255**2/mse_mean)\n",
    "print('PSNR = ' + str(round(psnr,2)))"
   ]
  },
  {
   "cell_type": "code",
   "execution_count": null,
   "metadata": {
    "colab": {
     "base_uri": "https://localhost:8080/"
    },
    "id": "gYsJ7F4sflmj",
    "outputId": "71ef99e6-e64e-4914-d4f3-5fbacd18cdca"
   },
   "outputs": [
    {
     "name": "stdout",
     "output_type": "stream",
     "text": [
      "SSIM = 0.34\n"
     ]
    }
   ],
   "source": [
    "ssim_list = []\n",
    "for i in range(len(test_images)):\n",
    "    ssim = structural_similarity(test_images[i], test_images_denoised_mean[i])\n",
    "    ssim_list.append(ssim)\n",
    "ssim_mean = np.array(ssim_list).mean()\n",
    "print('SSIM = ' + str(round(ssim_mean,2)))"
   ]
  },
  {
   "cell_type": "markdown",
   "metadata": {
    "id": "X7PBFj73TEHS"
   },
   "source": [
    "# Median filter"
   ]
  },
  {
   "cell_type": "code",
   "execution_count": null,
   "metadata": {
    "id": "lyyM1mlGTFtu"
   },
   "outputs": [],
   "source": [
    "from scipy import ndimage\n"
   ]
  },
  {
   "cell_type": "code",
   "execution_count": null,
   "metadata": {
    "colab": {
     "base_uri": "https://localhost:8080/"
    },
    "id": "DHYwbazzoqKO",
    "outputId": "73121d57-5770-41b5-95d4-94ba2da379f9"
   },
   "outputs": [
    {
     "name": "stdout",
     "output_type": "stream",
     "text": [
      "CPU times: user 1.63 s, sys: 0 ns, total: 1.63 s\n",
      "Wall time: 1.63 s\n"
     ]
    }
   ],
   "source": [
    "%%time\n",
    "\n",
    "test_images_denoised_median = []\n",
    "for i in range(len(test_images_noisy)):\n",
    "    denoised_image = ndimage.median_filter(test_images_noisy[i], 3)\n",
    "    test_images_denoised_median.append(denoised_image)"
   ]
  },
  {
   "cell_type": "code",
   "execution_count": null,
   "metadata": {
    "colab": {
     "base_uri": "https://localhost:8080/"
    },
    "id": "uv0QJn2rRz32",
    "outputId": "0636ae0a-4347-49e9-be84-d03de07d6166"
   },
   "outputs": [
    {
     "name": "stdout",
     "output_type": "stream",
     "text": [
      "CPU times: user 1.58 s, sys: 915 µs, total: 1.58 s\n",
      "Wall time: 1.58 s\n"
     ]
    }
   ],
   "source": [
    "%%time\n",
    "\n",
    "test_images_denoised_median = []\n",
    "for i in range(len(test_images_noisy)):\n",
    "    denoised_image = ndimage.median_filter(test_images_noisy[i], 3)\n",
    "    test_images_denoised_median.append(denoised_image)"
   ]
  },
  {
   "cell_type": "code",
   "execution_count": null,
   "metadata": {
    "colab": {
     "base_uri": "https://localhost:8080/"
    },
    "id": "Q9gaXszTe_Yo",
    "outputId": "3949a37a-fc70-4788-9069-40461dd0ffa8"
   },
   "outputs": [
    {
     "name": "stdout",
     "output_type": "stream",
     "text": [
      "MSE = 5452.06\n"
     ]
    }
   ],
   "source": [
    "mse_list = []\n",
    "for i in range(len(test_images)):\n",
    "    mse = mean_squared_error(test_images[i], test_images_denoised_median[i])\n",
    "    mse_list.append(mse)\n",
    "mse_mean = np.array(mse_list).mean()\n",
    "print('MSE = ' + str(round(mse_mean,2)))"
   ]
  },
  {
   "cell_type": "code",
   "execution_count": null,
   "metadata": {
    "colab": {
     "base_uri": "https://localhost:8080/"
    },
    "id": "-ETkAm2aSwR0",
    "outputId": "0e0b7c1d-17ff-4bb4-dc41-88f312633197"
   },
   "outputs": [
    {
     "name": "stdout",
     "output_type": "stream",
     "text": [
      "PSNR = 10.77\n"
     ]
    }
   ],
   "source": [
    "psnr = 10*np.log10(255**2/mse_mean)\n",
    "print('PSNR = ' + str(round(psnr,2)))"
   ]
  },
  {
   "cell_type": "code",
   "execution_count": null,
   "metadata": {
    "colab": {
     "base_uri": "https://localhost:8080/"
    },
    "id": "KSGLbQytSykR",
    "outputId": "ab4e9fbc-35b7-4877-8ef8-f6e8eb1a54e6"
   },
   "outputs": [
    {
     "name": "stdout",
     "output_type": "stream",
     "text": [
      "SSIM = 0.31\n"
     ]
    }
   ],
   "source": [
    "ssim_list = []\n",
    "for i in range(len(test_images)):\n",
    "    ssim = structural_similarity(test_images[i], test_images_denoised[i])\n",
    "    ssim_list.append(ssim)\n",
    "ssim_mean = np.array(ssim_list).mean()\n",
    "print('SSIM = ' + str(round(ssim_mean,2)))"
   ]
  },
  {
   "cell_type": "code",
   "execution_count": null,
   "metadata": {
    "id": "2GtsNTrbaRNC"
   },
   "outputs": [],
   "source": []
  },
  {
   "cell_type": "markdown",
   "metadata": {
    "id": "yv9GroChTCXk"
   },
   "source": [
    "# Wavelet"
   ]
  },
  {
   "cell_type": "code",
   "execution_count": null,
   "metadata": {
    "id": "mFasfNLLUXtJ"
   },
   "outputs": [],
   "source": [
    "from skimage.restoration import denoise_wavelet, estimate_sigma\n",
    "\n"
   ]
  },
  {
   "cell_type": "code",
   "execution_count": null,
   "metadata": {
    "colab": {
     "base_uri": "https://localhost:8080/"
    },
    "id": "mKLjkTB3otu5",
    "outputId": "79b27693-7871-46bf-c195-77f9bb1eba50"
   },
   "outputs": [
    {
     "name": "stdout",
     "output_type": "stream",
     "text": [
      "CPU times: user 7.75 s, sys: 0 ns, total: 7.75 s\n",
      "Wall time: 7.74 s\n"
     ]
    }
   ],
   "source": [
    "%%time\n",
    "\n",
    "test_images_denoised_wvlt_bs = []\n",
    "for i in range(len(test_images_noisy)):\n",
    "    #sigma_est = estimate_sigma(test_images_noisy[i])\n",
    "    denoised_image = denoise_wavelet(test_images_noisy[i], method='BayesShrink', mode='soft', rescale_sigma=True)\n",
    "    test_images_denoised_wvlt_bs.append(denoised_image)"
   ]
  },
  {
   "cell_type": "code",
   "execution_count": null,
   "metadata": {
    "colab": {
     "base_uri": "https://localhost:8080/"
    },
    "id": "wBAxahLSmRcL",
    "outputId": "d18b8350-2668-4af5-d52b-d7b8f8b459ba"
   },
   "outputs": [
    {
     "name": "stdout",
     "output_type": "stream",
     "text": [
      "CPU times: user 8.32 s, sys: 2.09 ms, total: 8.32 s\n",
      "Wall time: 8.34 s\n"
     ]
    }
   ],
   "source": [
    "%%time\n",
    "\n",
    "test_images_denoised = []\n",
    "for i in range(len(test_images_noisy)):\n",
    "    #sigma_est = estimate_sigma(test_images_noisy[i])\n",
    "    denoised_image = denoise_wavelet(test_images_noisy[i], method='BayesShrink', mode='soft', rescale_sigma=True)\n",
    "    test_images_denoised.append(denoised_image)"
   ]
  },
  {
   "cell_type": "code",
   "execution_count": null,
   "metadata": {
    "colab": {
     "base_uri": "https://localhost:8080/"
    },
    "id": "zxc5rpoUmvcm",
    "outputId": "2e750af1-9b1c-4f4a-b426-3f5808087e69"
   },
   "outputs": [
    {
     "name": "stdout",
     "output_type": "stream",
     "text": [
      "MSE = 0.09\n"
     ]
    }
   ],
   "source": [
    "mse_list = []\n",
    "for i in range(len(test_images)):\n",
    "    mse = mean_squared_error(test_images[i]/255, test_images_denoised[i])\n",
    "    mse_list.append(mse)\n",
    "mse_mean = np.array(mse_list).mean()\n",
    "print('MSE = ' + str(round(mse_mean,2)))"
   ]
  },
  {
   "cell_type": "code",
   "execution_count": null,
   "metadata": {
    "colab": {
     "base_uri": "https://localhost:8080/"
    },
    "id": "eq0NVJ07mu-J",
    "outputId": "c03ffb88-de85-4f28-d676-0c33d29ffaf2"
   },
   "outputs": [
    {
     "name": "stdout",
     "output_type": "stream",
     "text": [
      "PSNR = 58.53\n"
     ]
    }
   ],
   "source": [
    "psnr = 10*np.log10(255**2/mse_mean)\n",
    "print('PSNR = ' + str(round(psnr,2)))"
   ]
  },
  {
   "cell_type": "code",
   "execution_count": null,
   "metadata": {
    "colab": {
     "base_uri": "https://localhost:8080/"
    },
    "id": "Zx4EB16Emuz-",
    "outputId": "f0b6dabc-a62d-4909-f9ae-8b66417ba691"
   },
   "outputs": [
    {
     "name": "stdout",
     "output_type": "stream",
     "text": [
      "SSIM = 0.4\n"
     ]
    }
   ],
   "source": [
    "ssim_list = []\n",
    "for i in range(len(test_images)):\n",
    "    ssim = structural_similarity(test_images[i]/255, test_images_denoised[i])\n",
    "    ssim_list.append(ssim)\n",
    "ssim_mean = np.array(ssim_list).mean()\n",
    "print('SSIM = ' + str(round(ssim_mean,2)))"
   ]
  },
  {
   "cell_type": "code",
   "execution_count": null,
   "metadata": {
    "colab": {
     "base_uri": "https://localhost:8080/"
    },
    "id": "dJV-pNK4o6d5",
    "outputId": "781b6a77-88d6-4b64-ff39-7a3ef741c963"
   },
   "outputs": [
    {
     "name": "stdout",
     "output_type": "stream",
     "text": [
      "CPU times: user 7.38 s, sys: 0 ns, total: 7.38 s\n",
      "Wall time: 7.39 s\n"
     ]
    }
   ],
   "source": [
    "%%time\n",
    "\n",
    "test_images_denoised_wvlt_vs = []\n",
    "for i in range(len(test_images_noisy)):\n",
    "    #sigma_est = estimate_sigma(test_images_noisy[i])\n",
    "    denoised_image = denoise_wavelet(test_images_noisy[i], method='VisuShrink', mode='soft', rescale_sigma=True)\n",
    "    test_images_denoised_wvlt_vs.append(denoised_image)"
   ]
  },
  {
   "cell_type": "code",
   "execution_count": null,
   "metadata": {
    "colab": {
     "base_uri": "https://localhost:8080/"
    },
    "id": "IMiqwZzbmdOu",
    "outputId": "e6d87569-d9ac-41dc-f643-69bf9c005977"
   },
   "outputs": [
    {
     "name": "stdout",
     "output_type": "stream",
     "text": [
      "CPU times: user 7.54 s, sys: 18.3 ms, total: 7.56 s\n",
      "Wall time: 7.56 s\n"
     ]
    }
   ],
   "source": [
    "%%time\n",
    "\n",
    "test_images_denoised = []\n",
    "for i in range(len(test_images_noisy)):\n",
    "    #sigma_est = estimate_sigma(test_images_noisy[i])\n",
    "    denoised_image = denoise_wavelet(test_images_noisy[i], method='VisuShrink', mode='soft', rescale_sigma=True)\n",
    "    test_images_denoised.append(denoised_image)"
   ]
  },
  {
   "cell_type": "code",
   "execution_count": null,
   "metadata": {
    "colab": {
     "base_uri": "https://localhost:8080/"
    },
    "id": "uh9fnZbiWrd5",
    "outputId": "37ac8eb8-913c-4f1f-da58-4cbc0ac58fef"
   },
   "outputs": [
    {
     "name": "stdout",
     "output_type": "stream",
     "text": [
      "MSE = 0.09\n"
     ]
    }
   ],
   "source": [
    "mse_list = []\n",
    "for i in range(len(test_images)):\n",
    "    mse = mean_squared_error(test_images[i]/255, test_images_denoised[i])\n",
    "    mse_list.append(mse)\n",
    "mse_mean = np.array(mse_list).mean()\n",
    "print('MSE = ' + str(round(mse_mean,2)))"
   ]
  },
  {
   "cell_type": "code",
   "execution_count": null,
   "metadata": {
    "colab": {
     "base_uri": "https://localhost:8080/"
    },
    "id": "bT3jmN0mWU1s",
    "outputId": "43c2b6c5-d0a9-420c-e70f-785f45049de1"
   },
   "outputs": [
    {
     "name": "stdout",
     "output_type": "stream",
     "text": [
      "PSNR = 58.37\n"
     ]
    }
   ],
   "source": [
    "psnr = 10*np.log10(255**2/mse_mean)\n",
    "print('PSNR = ' + str(round(psnr,2)))"
   ]
  },
  {
   "cell_type": "code",
   "execution_count": null,
   "metadata": {
    "colab": {
     "base_uri": "https://localhost:8080/"
    },
    "id": "5CVRtyf1nO5B",
    "outputId": "5bba4b8f-2c0f-48cb-ef1c-8f4bfb06416e"
   },
   "outputs": [
    {
     "name": "stdout",
     "output_type": "stream",
     "text": [
      "SSIM = 0.36\n"
     ]
    }
   ],
   "source": [
    "ssim_list = []\n",
    "for i in range(len(test_images)):\n",
    "    ssim = structural_similarity(test_images[i]/255, test_images_denoised[i])\n",
    "    ssim_list.append(ssim)\n",
    "ssim_mean = np.array(ssim_list).mean()\n",
    "print('SSIM = ' + str(round(ssim_mean,2)))"
   ]
  },
  {
   "cell_type": "code",
   "execution_count": null,
   "metadata": {
    "id": "6x2bKsVMpDnW"
   },
   "outputs": [],
   "source": []
  },
  {
   "cell_type": "markdown",
   "metadata": {
    "id": "YAuG0giYpE1R"
   },
   "source": [
    "# plotting"
   ]
  },
  {
   "cell_type": "code",
   "execution_count": null,
   "metadata": {
    "id": "QjglZgxIpasB"
   },
   "outputs": [],
   "source": [
    "# Some example data to display\n",
    "x = np.linspace(0, 2 * np.pi, 400)\n",
    "y = np.sin(x ** 2)"
   ]
  },
  {
   "cell_type": "code",
   "execution_count": null,
   "metadata": {
    "colab": {
     "base_uri": "https://localhost:8080/"
    },
    "id": "dfylDxBXpspY",
    "outputId": "e1d32dc1-610a-4be4-a021-5b7e4b995ee9"
   },
   "outputs": [
    {
     "data": {
      "text/plain": [
       "(10000, 28, 28, 1)"
      ]
     },
     "execution_count": 20,
     "metadata": {
      "tags": []
     },
     "output_type": "execute_result"
    }
   ],
   "source": [
    "decoded_test_images.shape"
   ]
  },
  {
   "cell_type": "code",
   "execution_count": null,
   "metadata": {
    "id": "OmzFSFeWrYdU"
   },
   "outputs": [],
   "source": [
    "n = 10  # how many digits we will display\n",
    "plt.figure(figsize=(20, 4))\n",
    "for i in range(n):\n",
    "    # display original\n",
    "    plt.subplot(2, n, i + 1)\n",
    "    plt.imshow(test_images[i].reshape(28, 28))\n",
    "    plt.gray()\n",
    "    plt.axis(\"off\")\n",
    "    # display reconstruction\n",
    "    plt.subplot(2, n, i + 1 + n)\n",
    "    plt.imshow(decoded_test_images[i].reshape(28, 28))\n",
    "    plt.gray()\n",
    "    plt.axis(\"off\")\n",
    "plt.show()"
   ]
  },
  {
   "cell_type": "code",
   "execution_count": null,
   "metadata": {
    "colab": {
     "base_uri": "https://localhost:8080/"
    },
    "id": "G3LRZo7pr3k-",
    "outputId": "29b236e6-15a9-41f4-9d5f-5de6d7289b5d"
   },
   "outputs": [
    {
     "data": {
      "text/plain": [
       "(10000, 28, 28, 1)"
      ]
     },
     "execution_count": 27,
     "metadata": {
      "tags": []
     },
     "output_type": "execute_result"
    }
   ],
   "source": [
    "test_images.shape"
   ]
  },
  {
   "cell_type": "code",
   "execution_count": null,
   "metadata": {
    "colab": {
     "base_uri": "https://localhost:8080/",
     "height": 132
    },
    "id": "kn5iBDJsrZRp",
    "outputId": "9c9189e7-9c78-447b-906e-c6f63c4931a9"
   },
   "outputs": [
    {
     "data": {
      "text/plain": [
       "<Figure size 432x288 with 0 Axes>"
      ]
     },
     "metadata": {
      "tags": []
     },
     "output_type": "display_data"
    },
    {
     "data": {
      "image/png": "[encoded data removed]",
      "text/plain": [
       "<Figure size 1440x288 with 7 Axes>"
      ]
     },
     "metadata": {
      "needs_background": "light",
      "tags": []
     },
     "output_type": "display_data"
    }
   ],
   "source": [
    "i=1\n",
    "\n",
    "plt.figure(figsize=(20, 4))\n",
    "plt.subplot(1,7,1)\n",
    "plt.imshow(test_images[i].reshape(28,28), cmap='gray')\n",
    "plt.title('Original')\n",
    "plt.axis(\"off\")\n",
    "\n",
    "plt.subplot(1,7,2)\n",
    "plt.imshow(test_images_noisy[i], cmap='gray')\n",
    "plt.title('Noisy')\n",
    "plt.axis(\"off\")\n",
    "\n",
    "plt.subplot(1,7,3)\n",
    "plt.imshow(test_images_denoised_median[i], cmap='gray')\n",
    "plt.title('Median')\n",
    "plt.axis(\"off\")\n",
    "\n",
    "plt.subplot(1,7,4)\n",
    "plt.imshow(test_images_denoised_mean[i], cmap='gray')\n",
    "plt.title('NL Mean')\n",
    "plt.axis(\"off\")\n",
    "\n",
    "plt.subplot(1,7,5)\n",
    "plt.imshow(test_images_denoised_wvlt_vs[i], cmap='gray')\n",
    "plt.title('Wavelet (VS)')\n",
    "plt.axis(\"off\")\n",
    "\n",
    "plt.subplot(1,7,6)\n",
    "plt.imshow(test_images_denoised_wvlt_bs[i], cmap='gray')\n",
    "plt.title('Wavelet (BS)')\n",
    "plt.axis(\"off\")\n",
    "\n",
    "plt.subplot(1,7,7)\n",
    "plt.imshow(decoded_test_images[i].reshape(28,28), cmap='gray')\n",
    "plt.title('Autoencoder')\n",
    "plt.axis(\"off\")\n",
    "\n",
    "plt.savefig('Images.png', bbox_inches='tight')\n",
    "\n"
   ]
  },
  {
   "cell_type": "markdown",
   "metadata": {
    "id": "zmpSggFTlKYC"
   },
   "source": [
    "# Total variation loss"
   ]
  },
  {
   "cell_type": "code",
   "execution_count": null,
   "metadata": {
    "id": "9yuFuhGOlQJW"
   },
   "outputs": [],
   "source": [
    "from skimage.restoration import denoise_tv_chambolle, denoise_bilateral\n"
   ]
  },
  {
   "cell_type": "code",
   "execution_count": null,
   "metadata": {
    "colab": {
     "base_uri": "https://localhost:8080/"
    },
    "id": "VEpInBndl5ss",
    "outputId": "7d1a6f97-99af-4b32-b82b-269cc15df97d"
   },
   "outputs": [
    {
     "name": "stdout",
     "output_type": "stream",
     "text": [
      "CPU times: user 14.1 s, sys: 992 µs, total: 14.1 s\n",
      "Wall time: 14.1 s\n"
     ]
    }
   ],
   "source": [
    "%%time\n",
    "\n",
    "test_images_denoised = []\n",
    "for i in range(len(test_images_noisy)):\n",
    "    denoised_image = denoise_tv_chambolle(test_images_noisy[i], weight=0.1)\n",
    "    test_images_denoised.append(denoised_image)"
   ]
  },
  {
   "cell_type": "code",
   "execution_count": null,
   "metadata": {
    "colab": {
     "base_uri": "https://localhost:8080/"
    },
    "id": "-QAfO1ApmAxi",
    "outputId": "a5c4df98-0d44-4f78-82d7-636e9045e2eb"
   },
   "outputs": [
    {
     "name": "stdout",
     "output_type": "stream",
     "text": [
      "MSE = 0.07\n"
     ]
    }
   ],
   "source": [
    "mse_list = []\n",
    "for i in range(len(test_images)):\n",
    "    mse = mean_squared_error(test_images[i]/255, test_images_denoised[i])\n",
    "    mse_list.append(mse)\n",
    "mse_mean = np.array(mse_list).mean()\n",
    "print('MSE = ' + str(round(mse_mean,2)))"
   ]
  },
  {
   "cell_type": "code",
   "execution_count": null,
   "metadata": {
    "id": "seNV30pimINd"
   },
   "outputs": [],
   "source": []
  },
  {
   "cell_type": "markdown",
   "metadata": {
    "id": "FW3q81rsmP2n"
   },
   "source": [
    "# Bilateral"
   ]
  },
  {
   "cell_type": "code",
   "execution_count": null,
   "metadata": {
    "colab": {
     "base_uri": "https://localhost:8080/"
    },
    "id": "xAHaQ68EmN7d",
    "outputId": "a453b7cb-5f1c-4a90-b146-3a2ee11f2904"
   },
   "outputs": [
    {
     "name": "stdout",
     "output_type": "stream",
     "text": [
      "CPU times: user 18min 48s, sys: 157 ms, total: 18min 49s\n",
      "Wall time: 18min 49s\n"
     ]
    }
   ],
   "source": [
    "%%time\n",
    "\n",
    "test_images_denoised = []\n",
    "for i in range(len(test_images_noisy)):\n",
    "    denoised_image = denoise_bilateral(test_images_noisy[i], sigma_color=0.05, sigma_spatial=15)\n",
    "    test_images_denoised.append(denoised_image)"
   ]
  },
  {
   "cell_type": "code",
   "execution_count": null,
   "metadata": {
    "colab": {
     "base_uri": "https://localhost:8080/"
    },
    "id": "aZ86p6eNmqAk",
    "outputId": "2fdf02c9-1a1c-4ed8-aef0-5426ba323880"
   },
   "outputs": [
    {
     "name": "stdout",
     "output_type": "stream",
     "text": [
      "MSE = 0.06\n"
     ]
    }
   ],
   "source": [
    "mse_list = []\n",
    "for i in range(len(test_images)):\n",
    "    mse = mean_squared_error(test_images[i]/255, test_images_denoised[i])\n",
    "    mse_list.append(mse)\n",
    "mse_mean = np.array(mse_list).mean()\n",
    "print('MSE = ' + str(round(mse_mean,2)))"
   ]
  },
  {
   "cell_type": "code",
   "execution_count": null,
   "metadata": {
    "id": "oMogg4VnmsOR"
   },
   "outputs": [],
   "source": []
  }
 ],
 "metadata": {
  "accelerator": "GPU",
  "colab": {
   "collapsed_sections": [],
   "name": "ECE613_Research_Project.ipynb",
   "provenance": [],
   "toc_visible": true
  },
  "kernelspec": {
   "display_name": "Python 3",
   "language": "python",
   "name": "python3"
  },
  "language_info": {
   "codemirror_mode": {
    "name": "ipython",
    "version": 3
   },
   "file_extension": ".py",
   "mimetype": "text/x-python",
   "name": "python",
   "nbconvert_exporter": "python",
   "pygments_lexer": "ipython3",
   "version": "3.7.3"
  }
 },
 "nbformat": 4,
 "nbformat_minor": 1
}
